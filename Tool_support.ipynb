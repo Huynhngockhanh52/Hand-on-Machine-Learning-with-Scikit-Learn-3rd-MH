{
 "cells": [
  {
   "cell_type": "markdown",
   "metadata": {},
   "source": [
    "#### **Trên đây là các Tool trong quá trình học tập chỉnh sửa sao cho phù hợp để sử dụng sau này**"
   ]
  },
  {
   "cell_type": "code",
   "execution_count": 5,
   "metadata": {},
   "outputs": [],
   "source": [
    "from pathlib import Path\n",
    "import pandas as pd\n",
    "import tarfile\n",
    "import time\n",
    "import urllib.request"
   ]
  },
  {
   "cell_type": "markdown",
   "metadata": {},
   "source": [
    "#### **1. Load data**\n",
    "Tool này được chỉnh sửa dựa trên phương thức `load_house_data()`, trang 79."
   ]
  },
  {
   "cell_type": "code",
   "execution_count": 6,
   "metadata": {},
   "outputs": [],
   "source": [
    "def load_housing_data(source_dir, source_file, source_url):\n",
    "    '''\n",
    "        Tham số:\n",
    "        - `source_dir`  : Tên của thư mục sẽ lưu trữ dữ liệu, ex:datasets\n",
    "        - `source_file` : Tên của file chỉ định lưu trữ dữ liệu, ex:housing.tgz\n",
    "        - `source_url`  : Đường dẫn URL nơi tải dữ liệu xuống\n",
    "    '''\n",
    "    tarball_path = Path(source_dir + \"/\" + source_file)\n",
    "    if not tarball_path.is_file():\n",
    "        Path(source_dir).mkdir(parents=True, exist_ok=True)\n",
    "    url = source_url\n",
    "    urllib.request.urlretrieve(url, tarball_path)\n",
    "    with tarfile.open(tarball_path) as housing_tarball:\n",
    "        # Lấy danh sách các tên file trong tarball\n",
    "        members = housing_tarball.getmembers()\n",
    "        # Tìm thư mục gốc\n",
    "        extract_dir_name = None\n",
    "        for member in members:\n",
    "            if member.isdir():\n",
    "                extract_dir_name = member.name\n",
    "                break\n",
    "            \n",
    "        housing_tarball.extractall(path=source_dir)\n",
    "        # Xóa file tarball sau khi giải nén\n",
    "        \n",
    "        ext_path = Path(source_dir + \"/\" + extract_dir_name)\n",
    "        csv_files = list(ext_path.glob(\"*.csv\"))\n",
    "        print(ext_path, csv_files)\n",
    "        dataframes = {}\n",
    "        for csv_file in csv_files:\n",
    "            df_name = csv_file.stem  # Lấy tên file (không có đuôi)\n",
    "            dataframes[df_name] = pd.read_csv(csv_file)\n",
    "        # if tarball_path.exists():\n",
    "        #     try:\n",
    "        #         tarball_path.unlink()  # Xóa file tarball\n",
    "        #         print(f\"Đã xóa file {tarball_path}.\")\n",
    "        #     except PermissionError as e:\n",
    "        #         print(f\"Lỗi khi xóa file: {e}. File vẫn đang được sử dụng.\")        \n",
    "        return dataframes\n",
    "\n",
    "# load_housing_data(\"data\", \"housing.tgz\", \"https://github.com/ageron/data/raw/main/housing.tgz\")"
   ]
  }
 ],
 "metadata": {
  "kernelspec": {
   "display_name": "Hand-on-Machine-Learning-with-Scikit-Learn-3rd-MH",
   "language": "python",
   "name": "python3"
  },
  "language_info": {
   "codemirror_mode": {
    "name": "ipython",
    "version": 3
   },
   "file_extension": ".py",
   "mimetype": "text/x-python",
   "name": "python",
   "nbconvert_exporter": "python",
   "pygments_lexer": "ipython3",
   "version": "3.11.2"
  }
 },
 "nbformat": 4,
 "nbformat_minor": 2
}
